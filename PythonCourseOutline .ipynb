{
 "cells": [
  {
   "cell_type": "markdown",
   "metadata": {},
   "source": [
    "<font size = \"10\" color= \"Black\"> Course content"
   ]
  },
  {
   "cell_type": "markdown",
   "metadata": {},
   "source": [
    "<ul> \n",
    "<font size=\"5\" color=\"blue\"><b>1.Getting Started </b> </font>\n",
    "    <li> <font size=\"3\">1.1.Welcome of this course </font>\n",
    "    <li><font size=\"3\">1.2 About Python\n",
    "    <li> <font size=\"3\">1.3Install Python Environment \n",
    "    <li> <font size=\"3\">1.4First code run! "
   ]
  },
  {
   "cell_type": "markdown",
   "metadata": {},
   "source": [
    "<ul> \n",
    "<font size=\"5\" color=\"red\"><b>2.The Basic</b></font>\n",
    "    <li> <font size=\"3\">2.1 Basic Syntax \n",
    "    <li><font size=\"3\"> 2.2 Variables \n",
    "    <li> <font size=\"3\">2.3 Strings \n",
    "    <li> <font size=\"3\">2.4 Lists\n",
    "    <li> <font size=\"3\">2.5 Dictionaries\n",
    "    <li> <font size=\"3\">2.6 Tuples\n",
    "    <li> <font size=\"3\">2.7 Exercise \n",
    "    <li> <font size=\"3\">2.8 Exercise Solution     "
   ]
  },
  {
   "cell_type": "markdown",
   "metadata": {},
   "source": [
    "<ul> \n",
    "<font size=\"5\" color=\"green\"><b></b>3.Conditionals and Loops</font>\n",
    "    <li> <font size=\"3\">3.1 If-Else Statements\n",
    "    <li><font size=\"3\">3.2 For Loops\n",
    "    <li> <font size=\"3\">3.3 While Loops\n",
    "    <li> <font size=\"3\">3.4 Pass, Break, and Continue \n",
    "    <li> <font size=\"3\">3.5 Extra: Exercise Loop "
   ]
  },
  {
   "cell_type": "markdown",
   "metadata": {},
   "source": [
    "<ul> \n",
    "<font size=\"5\" color=\"#2c3e50\"><b></b>4.User Input</font>\n",
    "    <li> <font size=\"3\">4.1 User Input and Casting \n",
    "    <li><font size=\"3\">4.2 Exceptions"
   ]
  },
  {
   "cell_type": "markdown",
   "metadata": {},
   "source": [
    "<ul> \n",
    "<font size=\"5\" color=\"#800000\"><b></b>5.Functions and Files</font>\n",
    "    <li> <font size=\"3\">5.1 Understanding Functions \n",
    "    <li><font size=\"3\">5.2 Opening and Reading Files \n",
    "    <li><font size=\"3\">5.3 Writing to Files\n",
    "     <li><font size=\"3\">5.4 Copying a File     "
   ]
  },
  {
   "cell_type": "markdown",
   "metadata": {},
   "source": [
    "<ul> \n",
    "<font size=\"5\" color=\"#008080\"><b></b>6.Classes and Object</font>\n",
    "    <li> <font size=\"3\">6.1 Creating Classes\n",
    "    <li><font size=\"3\">6.2 Objects"
   ]
  },
  {
   "cell_type": "markdown",
   "metadata": {},
   "source": [
    "<ul> \n",
    "<font size=\"5\" color=\"#808000\"><b>7. Graphics and Animations</b></font>\n",
    "    <li> <font size=\"3\">7.1 Tkinter Intro \n",
    "    <li><font size=\"3\">7.2 Short project show!!"
   ]
  }
 ],
 "metadata": {
  "kernelspec": {
   "display_name": "Python 3",
   "language": "python",
   "name": "python3"
  },
  "language_info": {
   "codemirror_mode": {
    "name": "ipython",
    "version": 3
   },
   "file_extension": ".py",
   "mimetype": "text/x-python",
   "name": "python",
   "nbconvert_exporter": "python",
   "pygments_lexer": "ipython3",
   "version": "3.7.3"
  }
 },
 "nbformat": 4,
 "nbformat_minor": 2
}
