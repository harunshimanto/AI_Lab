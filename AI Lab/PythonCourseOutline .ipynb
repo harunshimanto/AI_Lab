{
 "cells": [
  {
   "cell_type": "markdown",
   "metadata": {},
   "source": [
    "<font size = \"10\" color= \"#2c3e50\"> <b> Course content </b></font>"
   ]
  },
  {
   "cell_type": "markdown",
   "metadata": {},
   "source": [
    "<ul> \n",
    "<font size=\"5\" color=\"blue\"><b>Getting Started </b> </font>\n",
    "    <li> <font size=\"3\">Welcome of this course </font>\n",
    "    <li><font size=\"3\">About Python\n",
    "    <li> <font size=\"3\">Install Python Environment \n",
    "    <li> <font size=\"3\">First code run! "
   ]
  },
  {
   "cell_type": "markdown",
   "metadata": {},
   "source": [
    "<ul> \n",
    "<font size=\"5\" color=\"red\"><b>The Basic</b></font>\n",
    "    <li> <font size=\"3\">Basic Syntax \n",
    "    <li><font size=\"3\">Variables \n",
    "    <li> <font size=\"3\">Strings \n",
    "    <li> <font size=\"3\">Lists\n",
    "    <li> <font size=\"3\">Dictionaries\n",
    "    <li> <font size=\"3\">Tuples\n",
    "    <li> <font size=\"3\">Exercise \n",
    "    <li> <font size=\"3\">Exercise Solution    \n",
    "       </ul>"
   ]
  },
  {
   "cell_type": "markdown",
   "metadata": {},
   "source": [
    "<ul> \n",
    "<font size=\"5\" color=\"green\"><b>Conditionals and Loops</b></font>\n",
    "    <li> <font size=\"3\">If-Else Statements\n",
    "    <li><font size=\"3\">For Loops\n",
    "    <li> <font size=\"3\">While Loops\n",
    "    <li> <font size=\"3\">Pass, Break, and Continue \n",
    "    <li> <font size=\"3\">Extra: Exercise Loop \n",
    "        </ul>"
   ]
  },
  {
   "cell_type": "markdown",
   "metadata": {},
   "source": [
    "<ul> \n",
    "<font size=\"5\" color=\"#2c3e50\"><b>User Input</b></font>\n",
    "    <li> <font size=\"3\">User Input and Casting \n",
    "    <li><font size=\"3\">Exceptions\n",
    "        </ul>"
   ]
  },
  {
   "cell_type": "markdown",
   "metadata": {},
   "source": [
    "<ul> \n",
    "<font size=\"5\" color=\"#800000\"><b>Functions and Files</b></font>\n",
    "    <li> <font size=\"3\">Understanding Functions \n",
    "    <li><font size=\"3\">Opening and Reading Files \n",
    "    <li><font size=\"3\">Writing to Files\n",
    "     <li><font size=\"3\">Copying a File  \n",
    "         </ul>"
   ]
  },
  {
   "cell_type": "markdown",
   "metadata": {},
   "source": [
    "<ul> \n",
    "<font size=\"5\" color=\"#008080\"><b>Classes and Object</b></font>\n",
    "    <li> <font size=\"3\">Creating Classes\n",
    "    <li><font size=\"3\">Objects\n",
    "        </ul>"
   ]
  },
  {
   "cell_type": "markdown",
   "metadata": {},
   "source": [
    "<ul> \n",
    "<font size=\"5\" color=\"#808000\"><b>Graphics and Animations</b></font>\n",
    "    <li> <font size=\"3\">Tkinter Intro \n",
    "    <li><font size=\"3\">Short project show!!"
   ]
  },
  {
   "cell_type": "markdown",
   "metadata": {},
   "source": [
    "![Imgur](https://i.imgur.com/7Vuumqh.jpg)"
   ]
  }
 ],
 "metadata": {
  "kernelspec": {
   "display_name": "Python 3",
   "language": "python",
   "name": "python3"
  },
  "language_info": {
   "codemirror_mode": {
    "name": "ipython",
    "version": 3
   },
   "file_extension": ".py",
   "mimetype": "text/x-python",
   "name": "python",
   "nbconvert_exporter": "python",
   "pygments_lexer": "ipython3",
   "version": "3.7.3"
  }
 },
 "nbformat": 4,
 "nbformat_minor": 2
}
